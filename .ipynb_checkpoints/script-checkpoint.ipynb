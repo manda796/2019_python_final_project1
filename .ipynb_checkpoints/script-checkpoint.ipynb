{
 "cells": [
  {
   "cell_type": "code",
   "execution_count": 4,
   "metadata": {},
   "outputs": [],
   "source": [
    "#Graphing\n",
    "import matplotlib.pyplot as plt\n",
    "import seaborn as sns"
   ]
  },
  {
   "cell_type": "code",
   "execution_count": 22,
   "metadata": {},
   "outputs": [],
   "source": [
    "#Amanda GUI system\n",
    "import tkinter\n",
    "entry = tkinter.Tk()\n",
    "entry.title(\"Monkey Weight Tracker\")\n",
    "\n",
    "#Variables that need to be input\n",
    "date = tkinter.StringVar()\n",
    "monkeyID = tkinter.StringVar()\n",
    "weight = tkinter.IntVar()\n",
    "wateramount = tkinter.IntVar()\n",
    "\n",
    "#Title for GUI\n",
    "titleLabel = tkinter.Label(entry, text = \"Monkey Entry\", font=\"bold\")\n",
    "titleLabel.grid(row=1, column=1)\n",
    "\n",
    "#Date entry for GUI\n",
    "dateLabel = tkinter.Label(entry, text = \"Date\")\n",
    "dateLabel.grid(row=2, column=1)\n",
    "dateEntry = tkinter.Entry(entry, textvariable = date)\n",
    "dateEntry.grid(row=2, column=2)\n",
    "\n",
    "#Monkey ID entry for GUI\n",
    "monkeyIDLabel = tkinter.Label(entry, text = \"Monkey ID\")\n",
    "monkeyIDLabel.grid(row=3, column =1)\n",
    "monkeyIDEntry = tkinter.Entry(entry, textvariable = monkeyID)\n",
    "monkeyIDEntry.grid(row=3, column=2)\n",
    "\n",
    "#Weight entry for GUI\n",
    "weightLabel = tkinter.Label(entry, text = \"Weight\")\n",
    "weightLabel.grid(row=4, column=1)\n",
    "weightEntry = tkinter.Entry(entry, textvariable = weight)\n",
    "weightEntry.grid(row=4, column=2)\n",
    "\n",
    "#Water Amount entry for GUI\n",
    "wateramountLabel = tkinter.Label(entry, text = \"Water Amount\")\n",
    "wateramountLabel.grid (row=5, column=1)\n",
    "wateramountEntry = tkinter.Entry(entry, textvariable = wateramount)\n",
    "wateramountEntry.grid (row=5, column=2)\n",
    "\n",
    "#Confirm button for GUI\n",
    "confirmButton = tkinter.Button(entry, text = \"Confirm\")\n",
    "confirmButton.grid (row=6, column=1)\n",
    "\n",
    "entry.mainloop()"
   ]
  },
  {
   "cell_type": "code",
   "execution_count": null,
   "metadata": {},
   "outputs": [],
   "source": []
  }
 ],
 "metadata": {
  "kernelspec": {
   "display_name": "Python 3",
   "language": "python",
   "name": "python3"
  },
  "language_info": {
   "codemirror_mode": {
    "name": "ipython",
    "version": 3
   },
   "file_extension": ".py",
   "mimetype": "text/x-python",
   "name": "python",
   "nbconvert_exporter": "python",
   "pygments_lexer": "ipython3",
   "version": "3.7.3"
  }
 },
 "nbformat": 4,
 "nbformat_minor": 4
}
